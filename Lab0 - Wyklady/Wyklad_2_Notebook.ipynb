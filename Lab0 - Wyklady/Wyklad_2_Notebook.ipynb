{
 "cells": [
  {
   "cell_type": "code",
   "id": "initial_id",
   "metadata": {
    "collapsed": true,
    "ExecuteTime": {
     "end_time": "2025-10-26T10:27:54.201683Z",
     "start_time": "2025-10-26T10:27:54.199355Z"
    }
   },
   "source": [
    "a = 10  # int\n",
    "b = 3.14  # float\n",
    "text = \"Data Science\"\n",
    "flag = True  # bool"
   ],
   "outputs": [],
   "execution_count": 3
  },
  {
   "metadata": {
    "ExecuteTime": {
     "end_time": "2025-10-26T10:29:15.028552Z",
     "start_time": "2025-10-26T10:29:15.024598Z"
    }
   },
   "cell_type": "code",
   "source": [
    "if a > 5:\n",
    "    print(\"Większe od 5\")\n",
    "elif a == 5:\n",
    "    print(\"Równe 5\")\n",
    "else:\n",
    "    print(\"Mniejsze od 5\")"
   ],
   "id": "5b7692069b7c7a28",
   "outputs": [
    {
     "name": "stdout",
     "output_type": "stream",
     "text": [
      "Większe od 5\n"
     ]
    }
   ],
   "execution_count": 4
  },
  {
   "metadata": {
    "ExecuteTime": {
     "end_time": "2025-10-26T10:29:16.321355Z",
     "start_time": "2025-10-26T10:29:16.318813Z"
    }
   },
   "cell_type": "code",
   "source": [
    "lista = [1, 2, 3, 4]\n",
    "krotka = (5, 6, 7)\n",
    "slownik = {\"kraj\": \"Polska\"}\n",
    "zbior = {1, 2, 3}"
   ],
   "id": "2a80514081352599",
   "outputs": [],
   "execution_count": 5
  },
  {
   "metadata": {
    "ExecuteTime": {
     "end_time": "2025-10-26T10:31:15.806457Z",
     "start_time": "2025-10-26T10:31:15.801969Z"
    }
   },
   "cell_type": "code",
   "source": [
    "for x in range(3):\n",
    "    print(\"Iteracja:\", x)\n",
    "\n",
    "\n",
    "def kwadrat(n):\n",
    "    return n ** 2\n",
    "\n",
    "\n",
    "print(kwadrat(5))"
   ],
   "id": "3b3187046ffaa7db",
   "outputs": [
    {
     "name": "stdout",
     "output_type": "stream",
     "text": [
      "Iteracja: 0\n",
      "Iteracja: 1\n",
      "Iteracja: 2\n",
      "25\n"
     ]
    }
   ],
   "execution_count": 8
  },
  {
   "metadata": {
    "ExecuteTime": {
     "end_time": "2025-10-26T10:33:16.646486Z",
     "start_time": "2025-10-26T10:33:16.643996Z"
    }
   },
   "cell_type": "code",
   "source": [
    "# Uporządkowana, modyfikowalna kolekcja elementów\n",
    "lista = [1, 2, 3, 4]\n",
    "# Uporządkowana, niemodyfikowalna kolekcja\n",
    "krotka = (5, 6, 7)\n",
    "# Kolekcja par klucz-wartość\n",
    "slownik = {\"kraj\": \"Polska\"}\n",
    "# Nieuporządkowana kolekcja unikalnych elementów\n",
    "zbior = {1, 2, 3}"
   ],
   "id": "294dc3377c7bebbf",
   "outputs": [],
   "execution_count": 10
  },
  {
   "metadata": {
    "ExecuteTime": {
     "end_time": "2025-10-26T10:35:50.322891Z",
     "start_time": "2025-10-26T10:35:50.264208Z"
    }
   },
   "cell_type": "code",
   "source": [
    "import numpy as np\n",
    "import pandas as pd\n",
    "import seaborn as sns\n",
    "import matplotlib.pyplot as plt\n",
    "# Generowanie danyclosowych\n",
    "data = pd.DataFrame({ \"x\": np.random.randn(50), \"y\": np.random.randn(50) + 1})\n",
    "# Analiza iwizualizacja\n",
    "sns.scatterplot(data=data, x=\"x\", y=\"y\")\n",
    "plt.title(\"Zależność między zmiennymi X i Y\")\n",
    "plt.show()"
   ],
   "id": "45e6631df158fe86",
   "outputs": [
    {
     "data": {
      "text/plain": [
       "<Figure size 640x480 with 1 Axes>"
      ],
      "image/png": "[encoded data removed]"
     },
     "metadata": {},
     "output_type": "display_data",
     "jetTransient": {
      "display_id": null
     }
    }
   ],
   "execution_count": 19
  },
  {
   "metadata": {},
   "cell_type": "code",
   "outputs": [],
   "execution_count": null,
   "source": "",
   "id": "8b39d9c4f30c079b"
  }
 ],
 "metadata": {
  "kernelspec": {
   "display_name": "Python 3",
   "language": "python",
   "name": "python3"
  },
  "language_info": {
   "codemirror_mode": {
    "name": "ipython",
    "version": 2
   },
   "file_extension": ".py",
   "mimetype": "text/x-python",
   "name": "python",
   "nbconvert_exporter": "python",
   "pygments_lexer": "ipython2",
   "version": "2.7.6"
  }
 },
 "nbformat": 4,
 "nbformat_minor": 5
}
