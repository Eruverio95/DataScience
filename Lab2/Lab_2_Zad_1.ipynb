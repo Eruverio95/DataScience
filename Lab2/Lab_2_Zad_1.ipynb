{
 "cells": [
  {
   "metadata": {},
   "cell_type": "markdown",
   "source": "Analiza danych o napiwkach w restauracji – eksploracja i wnioski",
   "id": "939647c13001ee80"
  },
  {
   "metadata": {
    "ExecuteTime": {
     "end_time": "2025-10-26T11:13:00.469947Z",
     "start_time": "2025-10-26T11:13:00.464161Z"
    }
   },
   "cell_type": "code",
   "source": [
    "import seaborn as sns\n",
    "\n",
    "df = sns.load_dataset(\"tips\")"
   ],
   "id": "5442fc313594061",
   "outputs": [],
   "execution_count": 12
  },
  {
   "metadata": {},
   "cell_type": "markdown",
   "source": [
    "Polecenia:\n",
    "Wyświetl podstawowe informacje o zbiorze (df.info(), df.describe()), sprawdź brakujące wartości.\n",
    "\n",
    "Oblicz średnią wartość rachunku i napiwków z podziałem na dzień tygodnia i płeć (groupby + agg).\n",
    "\n",
    "Utwórz kolumnę tip_rate = tip / total_bill i oblicz średni procent napiwku dla różnych pór dnia (day, time).\n",
    "\n",
    "Narysuj wykres punktowy pokazujący zależność między total_bill a tip_rate, z kolorem oznaczającym płeć.\n",
    "\n",
    "Odpowiedz w Markdown:\n",
    "\n",
    "Czy poziom napiwków różni się istotnie w weekendy?\n",
    "\n",
    "Która grupa klientów zostawia wyższe napiwki w procentach?"
   ],
   "id": "6ed08ee3c72ebb2f"
  },
  {
   "metadata": {
    "ExecuteTime": {
     "end_time": "2025-10-26T11:13:28.013968Z",
     "start_time": "2025-10-26T11:13:28.000726Z"
    }
   },
   "cell_type": "code",
   "source": [
    "df.info()\n",
    "df.describe()"
   ],
   "id": "ee2ee97ff5caad1",
   "outputs": [
    {
     "name": "stdout",
     "output_type": "stream",
     "text": [
      "<class 'pandas.core.frame.DataFrame'>\n",
      "RangeIndex: 244 entries, 0 to 243\n",
      "Data columns (total 7 columns):\n",
      " #   Column      Non-Null Count  Dtype   \n",
      "---  ------      --------------  -----   \n",
      " 0   total_bill  244 non-null    float64 \n",
      " 1   tip         244 non-null    float64 \n",
      " 2   sex         244 non-null    category\n",
      " 3   smoker      244 non-null    category\n",
      " 4   day         244 non-null    category\n",
      " 5   time        244 non-null    category\n",
      " 6   size        244 non-null    int64   \n",
      "dtypes: category(4), float64(2), int64(1)\n",
      "memory usage: 7.4 KB\n"
     ]
    },
    {
     "data": {
      "text/plain": [
       "       total_bill         tip        size\n",
       "count  244.000000  244.000000  244.000000\n",
       "mean    19.785943    2.998279    2.569672\n",
       "std      8.902412    1.383638    0.951100\n",
       "min      3.070000    1.000000    1.000000\n",
       "25%     13.347500    2.000000    2.000000\n",
       "50%     17.795000    2.900000    2.000000\n",
       "75%     24.127500    3.562500    3.000000\n",
       "max     50.810000   10.000000    6.000000"
      ],
      "text/html": [
       "<div>\n",
       "<style scoped>\n",
       "    .dataframe tbody tr th:only-of-type {\n",
       "        vertical-align: middle;\n",
       "    }\n",
       "\n",
       "    .dataframe tbody tr th {\n",
       "        vertical-align: top;\n",
       "    }\n",
       "\n",
       "    .dataframe thead th {\n",
       "        text-align: right;\n",
       "    }\n",
       "</style>\n",
       "<table border=\"1\" class=\"dataframe\">\n",
       "  <thead>\n",
       "    <tr style=\"text-align: right;\">\n",
       "      <th></th>\n",
       "      <th>total_bill</th>\n",
       "      <th>tip</th>\n",
       "      <th>size</th>\n",
       "    </tr>\n",
       "  </thead>\n",
       "  <tbody>\n",
       "    <tr>\n",
       "      <th>count</th>\n",
       "      <td>244.000000</td>\n",
       "      <td>244.000000</td>\n",
       "      <td>244.000000</td>\n",
       "    </tr>\n",
       "    <tr>\n",
       "      <th>mean</th>\n",
       "      <td>19.785943</td>\n",
       "      <td>2.998279</td>\n",
       "      <td>2.569672</td>\n",
       "    </tr>\n",
       "    <tr>\n",
       "      <th>std</th>\n",
       "      <td>8.902412</td>\n",
       "      <td>1.383638</td>\n",
       "      <td>0.951100</td>\n",
       "    </tr>\n",
       "    <tr>\n",
       "      <th>min</th>\n",
       "      <td>3.070000</td>\n",
       "      <td>1.000000</td>\n",
       "      <td>1.000000</td>\n",
       "    </tr>\n",
       "    <tr>\n",
       "      <th>25%</th>\n",
       "      <td>13.347500</td>\n",
       "      <td>2.000000</td>\n",
       "      <td>2.000000</td>\n",
       "    </tr>\n",
       "    <tr>\n",
       "      <th>50%</th>\n",
       "      <td>17.795000</td>\n",
       "      <td>2.900000</td>\n",
       "      <td>2.000000</td>\n",
       "    </tr>\n",
       "    <tr>\n",
       "      <th>75%</th>\n",
       "      <td>24.127500</td>\n",
       "      <td>3.562500</td>\n",
       "      <td>3.000000</td>\n",
       "    </tr>\n",
       "    <tr>\n",
       "      <th>max</th>\n",
       "      <td>50.810000</td>\n",
       "      <td>10.000000</td>\n",
       "      <td>6.000000</td>\n",
       "    </tr>\n",
       "  </tbody>\n",
       "</table>\n",
       "</div>"
      ]
     },
     "execution_count": 15,
     "metadata": {},
     "output_type": "execute_result"
    }
   ],
   "execution_count": 15
  },
  {
   "metadata": {
    "ExecuteTime": {
     "end_time": "2025-10-26T11:13:52.411292Z",
     "start_time": "2025-10-26T11:13:52.406406Z"
    }
   },
   "cell_type": "code",
   "source": [
    "# sprawdzenie brakujacych wartosci\n",
    "df.isna().sum()"
   ],
   "id": "b166c1f5ea235bb7",
   "outputs": [
    {
     "data": {
      "text/plain": [
       "total_bill    0\n",
       "tip           0\n",
       "sex           0\n",
       "smoker        0\n",
       "day           0\n",
       "time          0\n",
       "size          0\n",
       "dtype: int64"
      ]
     },
     "execution_count": 17,
     "metadata": {},
     "output_type": "execute_result"
    }
   ],
   "execution_count": 17
  },
  {
   "metadata": {
    "ExecuteTime": {
     "end_time": "2025-10-26T11:26:23.403408Z",
     "start_time": "2025-10-26T11:26:23.396154Z"
    }
   },
   "cell_type": "code",
   "source": [
    "# srednie wartosci\n",
    "grouped = df.groupby(['day', 'sex'], observed=True).agg({\n",
    "    'total_bill': 'mean',\n",
    "    'tip': 'mean'\n",
    "}).round(2)  # zaokraglenie wynikow do 2\n",
    "print(grouped)"
   ],
   "id": "52480cde6dd5bf13",
   "outputs": [
    {
     "name": "stdout",
     "output_type": "stream",
     "text": [
      "             total_bill   tip\n",
      "day  sex                     \n",
      "Thur Male         18.71  2.98\n",
      "     Female       16.72  2.58\n",
      "Fri  Male         19.86  2.69\n",
      "     Female       14.15  2.78\n",
      "Sat  Male         20.80  3.08\n",
      "     Female       19.68  2.80\n",
      "Sun  Male         21.89  3.22\n",
      "     Female       19.87  3.37\n"
     ]
    }
   ],
   "execution_count": 22
  },
  {
   "metadata": {
    "ExecuteTime": {
     "end_time": "2025-10-26T11:37:22.254931Z",
     "start_time": "2025-10-26T11:37:22.246293Z"
    }
   },
   "cell_type": "code",
   "source": [
    "df['tip_rate'] = (df['tip'] / df['total_bill'] * 100).round(2)\n",
    "print(df.iloc[1])\n",
    "print(df)"
   ],
   "id": "5779e6c1fcaa42d",
   "outputs": [
    {
     "name": "stdout",
     "output_type": "stream",
     "text": [
      "total_bill     10.34\n",
      "tip             1.66\n",
      "sex             Male\n",
      "smoker            No\n",
      "day              Sun\n",
      "time          Dinner\n",
      "size               3\n",
      "tip_rate       16.05\n",
      "Name: 1, dtype: object\n",
      "     total_bill   tip     sex smoker   day    time  size  tip_rate\n",
      "0         16.99  1.01  Female     No   Sun  Dinner     2      5.94\n",
      "1         10.34  1.66    Male     No   Sun  Dinner     3     16.05\n",
      "2         21.01  3.50    Male     No   Sun  Dinner     3     16.66\n",
      "3         23.68  3.31    Male     No   Sun  Dinner     2     13.98\n",
      "4         24.59  3.61  Female     No   Sun  Dinner     4     14.68\n",
      "..          ...   ...     ...    ...   ...     ...   ...       ...\n",
      "239       29.03  5.92    Male     No   Sat  Dinner     3     20.39\n",
      "240       27.18  2.00  Female    Yes   Sat  Dinner     2      7.36\n",
      "241       22.67  2.00    Male    Yes   Sat  Dinner     2      8.82\n",
      "242       17.82  1.75    Male     No   Sat  Dinner     2      9.82\n",
      "243       18.78  3.00  Female     No  Thur  Dinner     2     15.97\n",
      "\n",
      "[244 rows x 8 columns]\n"
     ]
    }
   ],
   "execution_count": 28
  },
  {
   "metadata": {
    "ExecuteTime": {
     "end_time": "2025-10-26T11:40:41.855969Z",
     "start_time": "2025-10-26T11:40:41.849568Z"
    }
   },
   "cell_type": "code",
   "source": [
    "tips_rate_by_day_time = df.groupby(['day', 'time'], observed=True).agg({'tip_rate': 'mean'}).round(2)\n",
    "print(tips_rate_by_day_time)"
   ],
   "id": "fd0c9be62cb57e71",
   "outputs": [
    {
     "name": "stdout",
     "output_type": "stream",
     "text": [
      "             tip_rate\n",
      "day  time            \n",
      "Thur Lunch      16.13\n",
      "     Dinner     15.97\n",
      "Fri  Lunch      18.88\n",
      "     Dinner     15.89\n",
      "Sat  Dinner     15.31\n",
      "Sun  Dinner     16.69\n"
     ]
    }
   ],
   "execution_count": 31
  },
  {
   "metadata": {
    "ExecuteTime": {
     "end_time": "2025-10-26T11:54:34.229911Z",
     "start_time": "2025-10-26T11:54:34.112580Z"
    }
   },
   "cell_type": "code",
   "source": [
    "import matplotlib.pyplot as plt\n",
    "\n",
    "plt.figure(figsize=(10, 6))\n",
    "sns.scatterplot(data=df, x='total_bill', y='tip_rate', hue='sex')\n",
    "plt.title('Zależność między rachunkiem a procentem napiwku')\n",
    "plt.show()"
   ],
   "id": "96066ba60330d046",
   "outputs": [
    {
     "data": {
      "text/plain": [
       "<Figure size 1000x600 with 1 Axes>"
      ],
      "image/png": "[encoded data removed]"
     },
     "metadata": {},
     "output_type": "display_data",
     "jetTransient": {
      "display_id": null
     }
    }
   ],
   "execution_count": 52
  },
  {
   "metadata": {
    "ExecuteTime": {
     "end_time": "2025-10-26T12:03:45.381373Z",
     "start_time": "2025-10-26T12:03:45.377647Z"
    }
   },
   "cell_type": "code",
   "source": [
    "days = df['day'].unique()\n",
    "print(days)"
   ],
   "id": "853a1a84908c7263",
   "outputs": [
    {
     "name": "stdout",
     "output_type": "stream",
     "text": [
      "['Sun', 'Sat', 'Thur', 'Fri']\n",
      "Categories (4, object): ['Thur', 'Fri', 'Sat', 'Sun']\n"
     ]
    }
   ],
   "execution_count": 63
  },
  {
   "metadata": {
    "ExecuteTime": {
     "end_time": "2025-10-26T12:05:18.003425Z",
     "start_time": "2025-10-26T12:05:17.999109Z"
    }
   },
   "cell_type": "code",
   "source": [
    "weekend_tip_rate = df[df['day'].isin(['Sat', 'Sun'])]['tip_rate'].mean()\n",
    "print(f\"{weekend_tip_rate:.2f}\")"
   ],
   "id": "e5f7cd5c631c3864",
   "outputs": [
    {
     "name": "stdout",
     "output_type": "stream",
     "text": [
      "15.96\n"
     ]
    }
   ],
   "execution_count": 65
  },
  {
   "metadata": {},
   "cell_type": "markdown",
   "source": "Średnia wartość napiwków w weekendy to 15.96",
   "id": "9a62c458f95e8835"
  },
  {
   "metadata": {
    "ExecuteTime": {
     "end_time": "2025-10-26T12:07:38.414472Z",
     "start_time": "2025-10-26T12:07:38.409734Z"
    }
   },
   "cell_type": "code",
   "source": [
    "#workday_tip_rate = df[df['day'].isin(['Thur', 'Fri'])]['tip_rate'].mean()\n",
    "workday_tip_rate = df[~df['day'].isin(['Sat', 'Sun'])]['tip_rate'].mean()\n",
    "print(f\"{workday_tip_rate:.2f}\")"
   ],
   "id": "48acc03ecc588125",
   "outputs": [
    {
     "name": "stdout",
     "output_type": "stream",
     "text": [
      "16.33\n"
     ]
    }
   ],
   "execution_count": 68
  },
  {
   "metadata": {},
   "cell_type": "markdown",
   "source": "Średnia wartość napiwków w dni robocze to 16.33",
   "id": "7793148ee402a67b"
  },
  {
   "metadata": {
    "ExecuteTime": {
     "end_time": "2025-10-26T12:15:00.125347Z",
     "start_time": "2025-10-26T12:15:00.119548Z"
    }
   },
   "cell_type": "code",
   "source": [
    "#gender_tip_rate = df.groupby('sex', observed=True)['tip_rate'].mean().round(2)\n",
    "gender_tip_rate = df.groupby('sex', observed=True).agg({'tip_rate': 'mean'}).round(2)\n",
    "print(gender_tip_rate)"
   ],
   "id": "f49cfc7e1ae813fe",
   "outputs": [
    {
     "name": "stdout",
     "output_type": "stream",
     "text": [
      "        tip_rate\n",
      "sex             \n",
      "Male       15.76\n",
      "Female     16.65\n"
     ]
    }
   ],
   "execution_count": 76
  },
  {
   "metadata": {},
   "cell_type": "markdown",
   "source": "Wyższe napiwiki zostawiają kobiety",
   "id": "7feb6dce872351d5"
  }
 ],
 "metadata": {
  "kernelspec": {
   "display_name": "Python 3",
   "language": "python",
   "name": "python3"
  },
  "language_info": {
   "codemirror_mode": {
    "name": "ipython",
    "version": 2
   },
   "file_extension": ".py",
   "mimetype": "text/x-python",
   "name": "python",
   "nbconvert_exporter": "python",
   "pygments_lexer": "ipython2",
   "version": "2.7.6"
  }
 },
 "nbformat": 4,
 "nbformat_minor": 5
}
