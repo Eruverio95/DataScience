{
 "cells": [
  {
   "metadata": {},
   "cell_type": "markdown",
   "source": [
    "Dane o pogodzie – czyszczenie i wizualizacja\n",
    "\n",
    "Cele: praca z rzeczywistym zbiorem danych, czyszczenie, zamiana typów, wykresy trendów.\n",
    "\n",
    "Dane:\n",
    "Użyj uproszczonego zbioru pogodowego – np. \"GlobalLandTemperaturesByMajorCity.csv\"\n",
    "(plik dostępny w serwisie Kaggle).\n",
    "\n",
    "Polecenia:\n",
    "Wczytaj dane o temperaturze dla jednego miasta (np. Warsaw).\n",
    "\n",
    "Ogranicz dane do okresu 1970–2020, usuń wartości NaN, popraw format dat (pd.to_datetime).\n",
    "\n",
    "Oblicz średnią roczną temperaturę i narysuj wykres liniowy zmian temperatur w czasie.\n",
    "\n",
    "Oblicz różnicę między temperaturą średnią z lat 1970–1990 a 2000–2020.\n",
    "\n",
    "Wyświetl wykres z linią trendu (użyj sns.regplot lub sns.lineplot).\n",
    "\n",
    "Dodatkowe pytania do refleksji (Markdown):\n",
    "\n",
    "Czy można zauważyć trend zmian klimatycznych?\n",
    "\n",
    "Jakie dodatkowe dane można by dołączyć (np. opady, emisje CO₂)?"
   ],
   "id": "a47380c78fba441d"
  },
  {
   "metadata": {
    "ExecuteTime": {
     "end_time": "2025-10-26T13:20:22.564789Z",
     "start_time": "2025-10-26T13:20:22.398803Z"
    }
   },
   "cell_type": "code",
   "source": [
    "import pandas as pd\n",
    "import matplotlib.pyplot as plt\n",
    "import seaborn as sns\n",
    "import numpy as np\n",
    "\n",
    "df = pd.read_csv('GlobalLandTemperaturesByMajorCity.csv')\n",
    "\n",
    "#wybrany Madrid, nie ma Warsaw w danych\n",
    "df_Madrid = df[\n",
    "    (df['City'] == 'Madrid') & (df['dt'].str[:4].astype(int) >= 1970) & (df['dt'].str[:4].astype(int) <= 2020)].copy()\n",
    "print(df_Madrid.head())\n",
    "\n",
    "#df_filtered = df.query('dt >= 1970 and dt <= 2020') useful if type matches"
   ],
   "id": "a1cd07ad6f31bea9",
   "outputs": [
    {
     "name": "stdout",
     "output_type": "stream",
     "text": [
      "                dt  AverageTemperature  AverageTemperatureUncertainty    City  \\\n",
      "141043  1970-01-01               5.267                          0.265  Madrid   \n",
      "141044  1970-02-01               4.684                          0.247  Madrid   \n",
      "141045  1970-03-01               5.013                          0.372  Madrid   \n",
      "141046  1970-04-01               9.229                          0.651  Madrid   \n",
      "141047  1970-05-01              13.303                          0.267  Madrid   \n",
      "\n",
      "       Country Latitude Longitude  \n",
      "141043   Spain   40.99N     4.26W  \n",
      "141044   Spain   40.99N     4.26W  \n",
      "141045   Spain   40.99N     4.26W  \n",
      "141046   Spain   40.99N     4.26W  \n",
      "141047   Spain   40.99N     4.26W  \n"
     ]
    }
   ],
   "execution_count": 10
  },
  {
   "metadata": {},
   "cell_type": "code",
   "outputs": [],
   "execution_count": null,
   "source": "",
   "id": "35add8971fe21a24"
  }
 ],
 "metadata": {
  "kernelspec": {
   "display_name": "Python 3",
   "language": "python",
   "name": "python3"
  },
  "language_info": {
   "codemirror_mode": {
    "name": "ipython",
    "version": 2
   },
   "file_extension": ".py",
   "mimetype": "text/x-python",
   "name": "python",
   "nbconvert_exporter": "python",
   "pygments_lexer": "ipython2",
   "version": "2.7.6"
  }
 },
 "nbformat": 4,
 "nbformat_minor": 5
}
