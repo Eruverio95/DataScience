{
 "cells": [
  {
   "metadata": {},
   "cell_type": "markdown",
   "source": [
    "Mini-projekt: Twój własny zbiór danych\n",
    "\n",
    "Cele: samodzielna eksploracja danych i ich prezentacja; rozwój kreatywności i samodzielności.\n",
    "\n",
    "Polecenia:\n",
    "Znajdź lub wybierz mały otwarty zbiór danych CSV (np. z Kaggle, data.gov, Eurostat).\n",
    "Tematy: sport, transport, edukacja, zdrowie, film, muzyka.\n",
    "\n",
    "Załaduj dane w Jupyter Notebook i:\n",
    "\n",
    "pokaż podstawowe informacje (info, describe),\n",
    "\n",
    "usuń błędne lub puste dane,\n",
    "\n",
    "wykonaj 2–3 analizy statystyczne (np. średnia, min, max, korelacje).\n",
    "\n",
    "Stwórz jeden wykres (np. słupkowy, boxplot, scatter lub heatmapę).\n",
    "\n",
    "Zinterpretuj wykres i napisz krótki raport (5–6 zdań) o swoich obserwacjach.\n",
    "\n",
    "Umieść tytuł, autora i źródło danych w komórce Markdown na początku notebooka."
   ],
   "id": "7945c06f97ac9ee8"
  },
  {
   "metadata": {},
   "cell_type": "code",
   "outputs": [],
   "execution_count": null,
   "source": [
    "import pandas as pd\n",
    "import matplotlib.pyplot as plt\n",
    "import seaborn as sns\n",
    "import numpy as np\n",
    "\n",
    "df = pd.read_csv('dataSet.csv')"
   ],
   "id": "c42a62404988df9e"
  }
 ],
 "metadata": {
  "kernelspec": {
   "display_name": "Python 3",
   "language": "python",
   "name": "python3"
  },
  "language_info": {
   "codemirror_mode": {
    "name": "ipython",
    "version": 2
   },
   "file_extension": ".py",
   "mimetype": "text/x-python",
   "name": "python",
   "nbconvert_exporter": "python",
   "pygments_lexer": "ipython2",
   "version": "2.7.6"
  }
 },
 "nbformat": 4,
 "nbformat_minor": 5
}
