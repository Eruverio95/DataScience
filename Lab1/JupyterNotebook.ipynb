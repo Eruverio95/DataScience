{
 "cells": [
  {
   "cell_type": "markdown",
   "metadata": {},
   "source": [
    "Mirek Informatyka Sem 3"
   ]
  },
  {
   "cell_type": "code",
   "execution_count": null,
   "metadata": {},
   "outputs": [
    {
     "ename": "",
     "evalue": "",
     "output_type": "error",
     "traceback": [
      "\u001b[1;31mRunning cells with 'Python 3.13.2' requires the ipykernel package.\n",
      "\u001b[1;31mRun the following command to install 'ipykernel' into the Python environment. \n",
      "\u001b[1;31mCommand: '\"c:/Program Files/Python/python.exe\" -m pip install ipykernel -U --user --force-reinstall'"
     ]
    }
   ],
   "source": [
    "# Zad 1\n",
    "print(\"Hello, Data Science\")"
   ]
  },
  {
   "cell_type": "code",
   "execution_count": null,
   "metadata": {},
   "outputs": [],
   "source": [
    "# Zad 2\n",
    "a = 10\n",
    "b = 3.5\n",
    "c = \"Python\"\n",
    "d = True\n",
    "\n",
    "print(f\"Zmienna a= {a} ma typ {type(a)}\")\n",
    "print(f\"Zmienna b= {b} ma typ {type(b)}\")\n",
    "print(f\"Zmienna c= {c} ma typ {type(c)}\")\n",
    "print(f\"Zmienna d= {d} ma typ {type(d)}\")\n",
    "\n",
    "print(f\"Dodawanie a+b= {a+b}\")\n",
    "print(f\"Dzielenie a/b= {a/b}\")\n",
    "print(f\"Potegowanie a^b= {pow(a, b)}\")\n"
   ]
  },
  {
   "cell_type": "code",
   "execution_count": null,
   "metadata": {},
   "outputs": [],
   "source": [
    "# Zad 3\n",
    "temperature = 17\n",
    "if temperature > 25:\n",
    "    print(\"Cieplo\")\n",
    "elif temperature > 15:\n",
    "    print(\"W sam raz\")\n",
    "else:\n",
    "    print(\"Chlodno\")\n",
    "\n",
    "liczba = 23\n",
    "if (liczba % 2 == 1):\n",
    "    print(\"Nieparzysta\")\n",
    "else:\n",
    "    print(\"Parzysta\")\n",
    "\n",
    "for liczba in range(1, 11):\n",
    "    print(liczba)\n",
    "\n",
    "i = 1\n",
    "while i < 6:\n",
    "    print(f\"Iteracja {i}\")\n",
    "    i += 1\n",
    "\n"
   ]
  },
  {
   "cell_type": "code",
   "execution_count": null,
   "metadata": {},
   "outputs": [],
   "source": [
    "# Zad 4\n",
    "# Lista\n",
    "fruits = [\"jablko\", \"banan\", \"malina\"]\n",
    "# Slownik\n",
    "person = {\"name\": \"Ala\", \"age\": 22}\n",
    "# Zestaw, Set\n",
    "numbers = {1, 2, 3, 4}\n",
    "\n",
    "fruits.append(\"pomarancza\")\n",
    "print(fruits)\n",
    "print(fruits[1])\n",
    "\n",
    "values = [4, 8, 15, 16, 23, 42]\n",
    "print(f\"Srednia z {values} to {sum(values)/len(values)}\")\n",
    "\n",
    "for key, value in person.items():\n",
    "    print(f\"Klucz: {key}, wartosc: {value}\")"
   ]
  }
 ],
 "metadata": {
  "kernelspec": {
   "display_name": "Python 3",
   "language": "python",
   "name": "python3"
  },
  "language_info": {
   "name": "python",
   "version": "3.13.2"
  }
 },
 "nbformat": 4,
 "nbformat_minor": 2
}
